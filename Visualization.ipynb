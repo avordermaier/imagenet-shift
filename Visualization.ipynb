{
 "cells": [
  {
   "cell_type": "code",
   "execution_count": null,
   "id": "circular-calendar",
   "metadata": {},
   "outputs": [],
   "source": [
    "from tqdm.notebook import tqdm\n",
    "import os\n",
    "import torch\n",
    "import torchvision\n",
    "import torchvision.transforms as transforms\n",
    "import cv2\n",
    "import matplotlib.pyplot as plt\n",
    "import numpy as np"
   ]
  },
  {
   "cell_type": "code",
   "execution_count": null,
   "id": "distributed-explosion",
   "metadata": {},
   "outputs": [],
   "source": [
    "dataset_dirs = {\n",
    "    'ImageNet': 'path/to/imagenet/val',\n",
    "    'ImageNet-Cartoon': 'datasets/imagenet-cartoon',\n",
    "    'ImageNet-Drawing': 'datasets/imagenet-drawing',\n",
    "    'ImageNet-Drawing-II': 'datasets/imagenet-drawing-II',\n",
    "    'ImageNet-Drawing-III': 'datasets/imagenet-drawing-III',\n",
    "    'ImageNet-Drawing-IV': 'datasets/imagenet-drawing-IV'\n",
    "}"
   ]
  },
  {
   "cell_type": "code",
   "execution_count": null,
   "id": "printable-grant",
   "metadata": {},
   "outputs": [],
   "source": [
    "transform_imagenet = transforms.Compose([\n",
    "            transforms.Resize(256),\n",
    "            transforms.CenterCrop(224),\n",
    "            transforms.ToTensor()])"
   ]
  },
  {
   "cell_type": "code",
   "execution_count": null,
   "id": "appointed-direction",
   "metadata": {},
   "outputs": [],
   "source": [
    "datasets = {}\n",
    "for dataset in dataset_dirs:\n",
    "    datasets[dataset] = torchvision.datasets.ImageFolder(dataset_dirs[dataset], transform=transform_imagenet)"
   ]
  },
  {
   "cell_type": "code",
   "execution_count": null,
   "id": "confused-premium",
   "metadata": {},
   "outputs": [],
   "source": [
    "os.makedirs('examples', exist_ok=True)\n",
    "show = [8*50, 9*50+1, 10*50+7, 234*50+5, 779*50+1, 786*50+3, 790*50+5, 794*50+7, 235*50+1, 802*50+0, 803*50+8,\n",
    "        808*50+9, 809*50+2,\n",
    "        814*50+5, 891*50+5, 909*50+0]\n",
    "fig, axs = plt.subplots(len(show),len(datasets), figsize=(20,60))\n",
    "for j, dataset in enumerate(datasets):\n",
    "    for i, idx in enumerate(show):\n",
    "        filename = datasets[dataset].samples[idx][0]\n",
    "        img = cv2.resize(cv2.imread(filename), (256, 256), interpolation = cv2.INTER_AREA)\n",
    "        axs[i,j].imshow(cv2.cvtColor(img, cv2.COLOR_RGB2BGR))\n",
    "        axs[i,j].axis('off')\n",
    "        extension = datasets[dataset].samples[idx][0].split('.')[-1]\n",
    "        cv2.imwrite(f'examples/id_{idx}_{dataset}.{extension}', img)"
   ]
  },
  {
   "cell_type": "code",
   "execution_count": null,
   "id": "e2125042",
   "metadata": {},
   "outputs": [],
   "source": []
  }
 ],
 "metadata": {
  "kernelspec": {
   "display_name": "Python 3 (ipykernel)",
   "language": "python",
   "name": "python3"
  },
  "language_info": {
   "codemirror_mode": {
    "name": "ipython",
    "version": 3
   },
   "file_extension": ".py",
   "mimetype": "text/x-python",
   "name": "python",
   "nbconvert_exporter": "python",
   "pygments_lexer": "ipython3",
   "version": "3.9.0"
  }
 },
 "nbformat": 4,
 "nbformat_minor": 5
}
