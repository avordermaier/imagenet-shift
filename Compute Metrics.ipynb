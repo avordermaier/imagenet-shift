{
 "cells": [
  {
   "cell_type": "code",
   "execution_count": 27,
   "id": "incorporate-calcium",
   "metadata": {},
   "outputs": [],
   "source": [
    "import os\n",
    "import numpy as np\n",
    "import torch\n",
    "import pandas as pd\n",
    "from tqdm.notebook import tqdm"
   ]
  },
  {
   "cell_type": "code",
   "execution_count": 39,
   "id": "1fe8f2db",
   "metadata": {},
   "outputs": [],
   "source": [
    "def show_table(metric, architectures, datasets):\n",
    "    table = np.zeros((len(architectures), len(datasets)))\n",
    "    for i, architecture in tqdm(enumerate(architectures), desc='Architectures', total=len(architectures), leave=False):\n",
    "        for j, dataset in tqdm(enumerate(datasets), desc='Datasets', leave=False, total = len(datasets)):\n",
    "            if os.path.exists(f'results/{architecture}_{dataset}.npy'):\n",
    "                results = np.load(f'results/{architecture}_{dataset}.npy', allow_pickle=True).item()\n",
    "                table[i,j] = results[metric]\n",
    "    return pd.DataFrame((table*100).round(2), index=architectures, columns=datasets)"
   ]
  },
  {
   "cell_type": "code",
   "execution_count": 40,
   "id": "54792c64",
   "metadata": {},
   "outputs": [],
   "source": [
    "architectures = ['alexnet', 'vgg19_bn', 'resnet50',\n",
    "                 'densenet121', 'resnext101_32x8d',\n",
    "                 'wide_resnet50_2', 'vit_b_16', 'convnext_small']"
   ]
  },
  {
   "cell_type": "markdown",
   "id": "c7f4cd09",
   "metadata": {},
   "source": [
    "# Table 1"
   ]
  },
  {
   "cell_type": "code",
   "execution_count": 41,
   "id": "888d8daf",
   "metadata": {},
   "outputs": [
    {
     "data": {
      "application/vnd.jupyter.widget-view+json": {
       "model_id": "",
       "version_major": 2,
       "version_minor": 0
      },
      "text/plain": [
       "Architectures:   0%|          | 0/8 [00:00<?, ?it/s]"
      ]
     },
     "metadata": {},
     "output_type": "display_data"
    },
    {
     "data": {
      "application/vnd.jupyter.widget-view+json": {
       "model_id": "",
       "version_major": 2,
       "version_minor": 0
      },
      "text/plain": [
       "Datasets:   0%|          | 0/3 [00:00<?, ?it/s]"
      ]
     },
     "metadata": {},
     "output_type": "display_data"
    },
    {
     "data": {
      "application/vnd.jupyter.widget-view+json": {
       "model_id": "",
       "version_major": 2,
       "version_minor": 0
      },
      "text/plain": [
       "Datasets:   0%|          | 0/3 [00:00<?, ?it/s]"
      ]
     },
     "metadata": {},
     "output_type": "display_data"
    },
    {
     "data": {
      "application/vnd.jupyter.widget-view+json": {
       "model_id": "",
       "version_major": 2,
       "version_minor": 0
      },
      "text/plain": [
       "Datasets:   0%|          | 0/3 [00:00<?, ?it/s]"
      ]
     },
     "metadata": {},
     "output_type": "display_data"
    },
    {
     "data": {
      "application/vnd.jupyter.widget-view+json": {
       "model_id": "",
       "version_major": 2,
       "version_minor": 0
      },
      "text/plain": [
       "Datasets:   0%|          | 0/3 [00:00<?, ?it/s]"
      ]
     },
     "metadata": {},
     "output_type": "display_data"
    },
    {
     "data": {
      "application/vnd.jupyter.widget-view+json": {
       "model_id": "",
       "version_major": 2,
       "version_minor": 0
      },
      "text/plain": [
       "Datasets:   0%|          | 0/3 [00:00<?, ?it/s]"
      ]
     },
     "metadata": {},
     "output_type": "display_data"
    },
    {
     "data": {
      "application/vnd.jupyter.widget-view+json": {
       "model_id": "",
       "version_major": 2,
       "version_minor": 0
      },
      "text/plain": [
       "Datasets:   0%|          | 0/3 [00:00<?, ?it/s]"
      ]
     },
     "metadata": {},
     "output_type": "display_data"
    },
    {
     "data": {
      "application/vnd.jupyter.widget-view+json": {
       "model_id": "",
       "version_major": 2,
       "version_minor": 0
      },
      "text/plain": [
       "Datasets:   0%|          | 0/3 [00:00<?, ?it/s]"
      ]
     },
     "metadata": {},
     "output_type": "display_data"
    },
    {
     "data": {
      "application/vnd.jupyter.widget-view+json": {
       "model_id": "",
       "version_major": 2,
       "version_minor": 0
      },
      "text/plain": [
       "Datasets:   0%|          | 0/3 [00:00<?, ?it/s]"
      ]
     },
     "metadata": {},
     "output_type": "display_data"
    },
    {
     "data": {
      "text/html": [
       "<div>\n",
       "<style scoped>\n",
       "    .dataframe tbody tr th:only-of-type {\n",
       "        vertical-align: middle;\n",
       "    }\n",
       "\n",
       "    .dataframe tbody tr th {\n",
       "        vertical-align: top;\n",
       "    }\n",
       "\n",
       "    .dataframe thead th {\n",
       "        text-align: right;\n",
       "    }\n",
       "</style>\n",
       "<table border=\"1\" class=\"dataframe\">\n",
       "  <thead>\n",
       "    <tr style=\"text-align: right;\">\n",
       "      <th></th>\n",
       "      <th>imagenet</th>\n",
       "      <th>imagenet-cartoon</th>\n",
       "      <th>imagenet-drawing</th>\n",
       "    </tr>\n",
       "  </thead>\n",
       "  <tbody>\n",
       "    <tr>\n",
       "      <th>alexnet</th>\n",
       "      <td>56.52</td>\n",
       "      <td>39.10</td>\n",
       "      <td>15.46</td>\n",
       "    </tr>\n",
       "    <tr>\n",
       "      <th>vgg19_bn</th>\n",
       "      <td>74.22</td>\n",
       "      <td>49.63</td>\n",
       "      <td>20.86</td>\n",
       "    </tr>\n",
       "    <tr>\n",
       "      <th>resnet50</th>\n",
       "      <td>76.13</td>\n",
       "      <td>53.96</td>\n",
       "      <td>23.74</td>\n",
       "    </tr>\n",
       "    <tr>\n",
       "      <th>densenet121</th>\n",
       "      <td>74.43</td>\n",
       "      <td>57.09</td>\n",
       "      <td>27.59</td>\n",
       "    </tr>\n",
       "    <tr>\n",
       "      <th>resnext101_32x8d</th>\n",
       "      <td>79.31</td>\n",
       "      <td>62.38</td>\n",
       "      <td>31.78</td>\n",
       "    </tr>\n",
       "    <tr>\n",
       "      <th>wide_resnet50_2</th>\n",
       "      <td>78.47</td>\n",
       "      <td>57.90</td>\n",
       "      <td>27.12</td>\n",
       "    </tr>\n",
       "    <tr>\n",
       "      <th>vit_b_16</th>\n",
       "      <td>81.07</td>\n",
       "      <td>69.03</td>\n",
       "      <td>46.89</td>\n",
       "    </tr>\n",
       "    <tr>\n",
       "      <th>convnext_small</th>\n",
       "      <td>83.30</td>\n",
       "      <td>69.02</td>\n",
       "      <td>44.63</td>\n",
       "    </tr>\n",
       "  </tbody>\n",
       "</table>\n",
       "</div>"
      ],
      "text/plain": [
       "                  imagenet  imagenet-cartoon  imagenet-drawing\n",
       "alexnet              56.52             39.10             15.46\n",
       "vgg19_bn             74.22             49.63             20.86\n",
       "resnet50             76.13             53.96             23.74\n",
       "densenet121          74.43             57.09             27.59\n",
       "resnext101_32x8d     79.31             62.38             31.78\n",
       "wide_resnet50_2      78.47             57.90             27.12\n",
       "vit_b_16             81.07             69.03             46.89\n",
       "convnext_small       83.30             69.02             44.63"
      ]
     },
     "execution_count": 41,
     "metadata": {},
     "output_type": "execute_result"
    }
   ],
   "source": [
    "datasets = ['imagenet', 'imagenet-cartoon', 'imagenet-drawing']\n",
    "show_table('acc', architectures, datasets)"
   ]
  },
  {
   "cell_type": "markdown",
   "id": "409c3aee",
   "metadata": {},
   "source": [
    "# Table 2"
   ]
  },
  {
   "cell_type": "code",
   "execution_count": 44,
   "id": "a7577160",
   "metadata": {},
   "outputs": [
    {
     "data": {
      "application/vnd.jupyter.widget-view+json": {
       "model_id": "",
       "version_major": 2,
       "version_minor": 0
      },
      "text/plain": [
       "Architectures:   0%|          | 0/8 [00:00<?, ?it/s]"
      ]
     },
     "metadata": {},
     "output_type": "display_data"
    },
    {
     "data": {
      "application/vnd.jupyter.widget-view+json": {
       "model_id": "",
       "version_major": 2,
       "version_minor": 0
      },
      "text/plain": [
       "Datasets:   0%|          | 0/4 [00:00<?, ?it/s]"
      ]
     },
     "metadata": {},
     "output_type": "display_data"
    },
    {
     "data": {
      "application/vnd.jupyter.widget-view+json": {
       "model_id": "",
       "version_major": 2,
       "version_minor": 0
      },
      "text/plain": [
       "Datasets:   0%|          | 0/4 [00:00<?, ?it/s]"
      ]
     },
     "metadata": {},
     "output_type": "display_data"
    },
    {
     "data": {
      "application/vnd.jupyter.widget-view+json": {
       "model_id": "",
       "version_major": 2,
       "version_minor": 0
      },
      "text/plain": [
       "Datasets:   0%|          | 0/4 [00:00<?, ?it/s]"
      ]
     },
     "metadata": {},
     "output_type": "display_data"
    },
    {
     "data": {
      "application/vnd.jupyter.widget-view+json": {
       "model_id": "",
       "version_major": 2,
       "version_minor": 0
      },
      "text/plain": [
       "Datasets:   0%|          | 0/4 [00:00<?, ?it/s]"
      ]
     },
     "metadata": {},
     "output_type": "display_data"
    },
    {
     "data": {
      "application/vnd.jupyter.widget-view+json": {
       "model_id": "",
       "version_major": 2,
       "version_minor": 0
      },
      "text/plain": [
       "Datasets:   0%|          | 0/4 [00:00<?, ?it/s]"
      ]
     },
     "metadata": {},
     "output_type": "display_data"
    },
    {
     "data": {
      "application/vnd.jupyter.widget-view+json": {
       "model_id": "",
       "version_major": 2,
       "version_minor": 0
      },
      "text/plain": [
       "Datasets:   0%|          | 0/4 [00:00<?, ?it/s]"
      ]
     },
     "metadata": {},
     "output_type": "display_data"
    },
    {
     "data": {
      "application/vnd.jupyter.widget-view+json": {
       "model_id": "",
       "version_major": 2,
       "version_minor": 0
      },
      "text/plain": [
       "Datasets:   0%|          | 0/4 [00:00<?, ?it/s]"
      ]
     },
     "metadata": {},
     "output_type": "display_data"
    },
    {
     "data": {
      "application/vnd.jupyter.widget-view+json": {
       "model_id": "",
       "version_major": 2,
       "version_minor": 0
      },
      "text/plain": [
       "Datasets:   0%|          | 0/4 [00:00<?, ?it/s]"
      ]
     },
     "metadata": {},
     "output_type": "display_data"
    },
    {
     "data": {
      "text/html": [
       "<div>\n",
       "<style scoped>\n",
       "    .dataframe tbody tr th:only-of-type {\n",
       "        vertical-align: middle;\n",
       "    }\n",
       "\n",
       "    .dataframe tbody tr th {\n",
       "        vertical-align: top;\n",
       "    }\n",
       "\n",
       "    .dataframe thead th {\n",
       "        text-align: right;\n",
       "    }\n",
       "</style>\n",
       "<table border=\"1\" class=\"dataframe\">\n",
       "  <thead>\n",
       "    <tr style=\"text-align: right;\">\n",
       "      <th></th>\n",
       "      <th>imagenet-drawing</th>\n",
       "      <th>imagenet-drawing-II</th>\n",
       "      <th>imagenet-drawing-III</th>\n",
       "      <th>imagenet-drawing-IV</th>\n",
       "    </tr>\n",
       "  </thead>\n",
       "  <tbody>\n",
       "    <tr>\n",
       "      <th>alexnet</th>\n",
       "      <td>15.46</td>\n",
       "      <td>20.31</td>\n",
       "      <td>18.06</td>\n",
       "      <td>31.63</td>\n",
       "    </tr>\n",
       "    <tr>\n",
       "      <th>vgg19_bn</th>\n",
       "      <td>20.86</td>\n",
       "      <td>27.32</td>\n",
       "      <td>25.14</td>\n",
       "      <td>39.75</td>\n",
       "    </tr>\n",
       "    <tr>\n",
       "      <th>resnet50</th>\n",
       "      <td>23.74</td>\n",
       "      <td>31.11</td>\n",
       "      <td>29.32</td>\n",
       "      <td>45.63</td>\n",
       "    </tr>\n",
       "    <tr>\n",
       "      <th>densenet121</th>\n",
       "      <td>27.59</td>\n",
       "      <td>34.68</td>\n",
       "      <td>32.29</td>\n",
       "      <td>48.89</td>\n",
       "    </tr>\n",
       "    <tr>\n",
       "      <th>resnext101_32x8d</th>\n",
       "      <td>31.78</td>\n",
       "      <td>38.82</td>\n",
       "      <td>36.83</td>\n",
       "      <td>53.57</td>\n",
       "    </tr>\n",
       "    <tr>\n",
       "      <th>wide_resnet50_2</th>\n",
       "      <td>27.12</td>\n",
       "      <td>34.30</td>\n",
       "      <td>31.91</td>\n",
       "      <td>49.35</td>\n",
       "    </tr>\n",
       "    <tr>\n",
       "      <th>vit_b_16</th>\n",
       "      <td>46.89</td>\n",
       "      <td>53.68</td>\n",
       "      <td>51.45</td>\n",
       "      <td>65.01</td>\n",
       "    </tr>\n",
       "    <tr>\n",
       "      <th>convnext_small</th>\n",
       "      <td>44.63</td>\n",
       "      <td>50.72</td>\n",
       "      <td>48.34</td>\n",
       "      <td>61.84</td>\n",
       "    </tr>\n",
       "  </tbody>\n",
       "</table>\n",
       "</div>"
      ],
      "text/plain": [
       "                  imagenet-drawing  imagenet-drawing-II  imagenet-drawing-III  \\\n",
       "alexnet                      15.46                20.31                 18.06   \n",
       "vgg19_bn                     20.86                27.32                 25.14   \n",
       "resnet50                     23.74                31.11                 29.32   \n",
       "densenet121                  27.59                34.68                 32.29   \n",
       "resnext101_32x8d             31.78                38.82                 36.83   \n",
       "wide_resnet50_2              27.12                34.30                 31.91   \n",
       "vit_b_16                     46.89                53.68                 51.45   \n",
       "convnext_small               44.63                50.72                 48.34   \n",
       "\n",
       "                  imagenet-drawing-IV  \n",
       "alexnet                         31.63  \n",
       "vgg19_bn                        39.75  \n",
       "resnet50                        45.63  \n",
       "densenet121                     48.89  \n",
       "resnext101_32x8d                53.57  \n",
       "wide_resnet50_2                 49.35  \n",
       "vit_b_16                        65.01  \n",
       "convnext_small                  61.84  "
      ]
     },
     "execution_count": 44,
     "metadata": {},
     "output_type": "execute_result"
    }
   ],
   "source": [
    "datasets = ['imagenet-drawing', 'imagenet-drawing-II', 'imagenet-drawing-III', 'imagenet-drawing-IV']\n",
    "show_table('acc', architectures, datasets)"
   ]
  },
  {
   "cell_type": "markdown",
   "id": "1232ac9a",
   "metadata": {},
   "source": [
    "# Table 3"
   ]
  },
  {
   "cell_type": "code",
   "execution_count": 43,
   "id": "e067509d",
   "metadata": {},
   "outputs": [
    {
     "data": {
      "application/vnd.jupyter.widget-view+json": {
       "model_id": "",
       "version_major": 2,
       "version_minor": 0
      },
      "text/plain": [
       "Architectures:   0%|          | 0/8 [00:00<?, ?it/s]"
      ]
     },
     "metadata": {},
     "output_type": "display_data"
    },
    {
     "data": {
      "application/vnd.jupyter.widget-view+json": {
       "model_id": "",
       "version_major": 2,
       "version_minor": 0
      },
      "text/plain": [
       "Datasets:   0%|          | 0/3 [00:00<?, ?it/s]"
      ]
     },
     "metadata": {},
     "output_type": "display_data"
    },
    {
     "data": {
      "application/vnd.jupyter.widget-view+json": {
       "model_id": "",
       "version_major": 2,
       "version_minor": 0
      },
      "text/plain": [
       "Datasets:   0%|          | 0/3 [00:00<?, ?it/s]"
      ]
     },
     "metadata": {},
     "output_type": "display_data"
    },
    {
     "data": {
      "application/vnd.jupyter.widget-view+json": {
       "model_id": "",
       "version_major": 2,
       "version_minor": 0
      },
      "text/plain": [
       "Datasets:   0%|          | 0/3 [00:00<?, ?it/s]"
      ]
     },
     "metadata": {},
     "output_type": "display_data"
    },
    {
     "data": {
      "application/vnd.jupyter.widget-view+json": {
       "model_id": "",
       "version_major": 2,
       "version_minor": 0
      },
      "text/plain": [
       "Datasets:   0%|          | 0/3 [00:00<?, ?it/s]"
      ]
     },
     "metadata": {},
     "output_type": "display_data"
    },
    {
     "data": {
      "application/vnd.jupyter.widget-view+json": {
       "model_id": "",
       "version_major": 2,
       "version_minor": 0
      },
      "text/plain": [
       "Datasets:   0%|          | 0/3 [00:00<?, ?it/s]"
      ]
     },
     "metadata": {},
     "output_type": "display_data"
    },
    {
     "data": {
      "application/vnd.jupyter.widget-view+json": {
       "model_id": "",
       "version_major": 2,
       "version_minor": 0
      },
      "text/plain": [
       "Datasets:   0%|          | 0/3 [00:00<?, ?it/s]"
      ]
     },
     "metadata": {},
     "output_type": "display_data"
    },
    {
     "data": {
      "application/vnd.jupyter.widget-view+json": {
       "model_id": "",
       "version_major": 2,
       "version_minor": 0
      },
      "text/plain": [
       "Datasets:   0%|          | 0/3 [00:00<?, ?it/s]"
      ]
     },
     "metadata": {},
     "output_type": "display_data"
    },
    {
     "data": {
      "application/vnd.jupyter.widget-view+json": {
       "model_id": "",
       "version_major": 2,
       "version_minor": 0
      },
      "text/plain": [
       "Datasets:   0%|          | 0/3 [00:00<?, ?it/s]"
      ]
     },
     "metadata": {},
     "output_type": "display_data"
    },
    {
     "data": {
      "text/html": [
       "<div>\n",
       "<style scoped>\n",
       "    .dataframe tbody tr th:only-of-type {\n",
       "        vertical-align: middle;\n",
       "    }\n",
       "\n",
       "    .dataframe tbody tr th {\n",
       "        vertical-align: top;\n",
       "    }\n",
       "\n",
       "    .dataframe thead th {\n",
       "        text-align: right;\n",
       "    }\n",
       "</style>\n",
       "<table border=\"1\" class=\"dataframe\">\n",
       "  <thead>\n",
       "    <tr style=\"text-align: right;\">\n",
       "      <th></th>\n",
       "      <th>imagenet</th>\n",
       "      <th>imagenet-cartoon</th>\n",
       "      <th>imagenet-drawing</th>\n",
       "    </tr>\n",
       "  </thead>\n",
       "  <tbody>\n",
       "    <tr>\n",
       "      <th>alexnet</th>\n",
       "      <td>1.99</td>\n",
       "      <td>5.31</td>\n",
       "      <td>18.95</td>\n",
       "    </tr>\n",
       "    <tr>\n",
       "      <th>vgg19_bn</th>\n",
       "      <td>3.75</td>\n",
       "      <td>9.27</td>\n",
       "      <td>20.11</td>\n",
       "    </tr>\n",
       "    <tr>\n",
       "      <th>resnet50</th>\n",
       "      <td>3.71</td>\n",
       "      <td>8.28</td>\n",
       "      <td>22.52</td>\n",
       "    </tr>\n",
       "    <tr>\n",
       "      <th>densenet121</th>\n",
       "      <td>2.52</td>\n",
       "      <td>5.70</td>\n",
       "      <td>16.57</td>\n",
       "    </tr>\n",
       "    <tr>\n",
       "      <th>resnext101_32x8d</th>\n",
       "      <td>8.06</td>\n",
       "      <td>13.71</td>\n",
       "      <td>26.69</td>\n",
       "    </tr>\n",
       "    <tr>\n",
       "      <th>wide_resnet50_2</th>\n",
       "      <td>5.29</td>\n",
       "      <td>9.98</td>\n",
       "      <td>23.81</td>\n",
       "    </tr>\n",
       "    <tr>\n",
       "      <th>vit_b_16</th>\n",
       "      <td>5.54</td>\n",
       "      <td>3.90</td>\n",
       "      <td>4.57</td>\n",
       "    </tr>\n",
       "    <tr>\n",
       "      <th>convnext_small</th>\n",
       "      <td>16.59</td>\n",
       "      <td>20.68</td>\n",
       "      <td>10.91</td>\n",
       "    </tr>\n",
       "  </tbody>\n",
       "</table>\n",
       "</div>"
      ],
      "text/plain": [
       "                  imagenet  imagenet-cartoon  imagenet-drawing\n",
       "alexnet               1.99              5.31             18.95\n",
       "vgg19_bn              3.75              9.27             20.11\n",
       "resnet50              3.71              8.28             22.52\n",
       "densenet121           2.52              5.70             16.57\n",
       "resnext101_32x8d      8.06             13.71             26.69\n",
       "wide_resnet50_2       5.29              9.98             23.81\n",
       "vit_b_16              5.54              3.90              4.57\n",
       "convnext_small       16.59             20.68             10.91"
      ]
     },
     "execution_count": 43,
     "metadata": {},
     "output_type": "execute_result"
    }
   ],
   "source": [
    "datasets = ['imagenet', 'imagenet-cartoon', 'imagenet-drawing']\n",
    "show_table('top1_ece_eq_mass', architectures, datasets)"
   ]
  },
  {
   "cell_type": "code",
   "execution_count": null,
   "id": "f42aead5",
   "metadata": {},
   "outputs": [],
   "source": []
  },
  {
   "cell_type": "code",
   "execution_count": null,
   "id": "1f17f9bf",
   "metadata": {},
   "outputs": [],
   "source": []
  }
 ],
 "metadata": {
  "kernelspec": {
   "display_name": "Python 3 (ipykernel)",
   "language": "python",
   "name": "python3"
  },
  "language_info": {
   "codemirror_mode": {
    "name": "ipython",
    "version": 3
   },
   "file_extension": ".py",
   "mimetype": "text/x-python",
   "name": "python",
   "nbconvert_exporter": "python",
   "pygments_lexer": "ipython3",
   "version": "3.9.12"
  }
 },
 "nbformat": 4,
 "nbformat_minor": 5
}
